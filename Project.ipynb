{
 "cells": [
  {
   "cell_type": "markdown",
   "id": "f75f861a-ccac-40b2-8f1f-e4c2d38fed20",
   "metadata": {
    "tags": []
   },
   "source": [
    "# coolest DMBEM Project"
   ]
  },
  {
   "cell_type": "markdown",
   "id": "af07fd4c-2f1a-44bc-b948-e51b4c32f809",
   "metadata": {
    "tags": []
   },
   "source": [
    "## Code Structure"
   ]
  },
  {
   "cell_type": "markdown",
   "id": "a6b28678-7b07-4ac9-b2a0-228528c244eb",
   "metadata": {},
   "source": [
    "### Excel file with measurements (C)\n"
   ]
  },
  {
   "cell_type": "markdown",
   "id": "7083e91a-54ec-4ea3-8b73-1821447a1fac",
   "metadata": {
    "tags": []
   },
   "source": [
    "### Thermophysical Properties (L)\n",
    "\n",
    "lines 29-70 of t04.py\n",
    "\n",
    "Materials:\n",
    "- concrete\n",
    "- insulation\n",
    "- glass\n",
    "- tiles (roof)\n",
    "- air\n",
    "\n",
    "Properties:\n",
    "- density kg/m³\n",
    "- specific heat J/kg.K\n",
    "- conductivity W/m.K\n",
    "- long wave emissivity\n",
    "- short wave transmittance\n",
    "- absorptivity\n",
    "- albedo\n",
    "\n",
    "Input/Return:\n",
    "- Input: materials needed\n",
    "- Return: data frame with properties of the selected materials\n"
   ]
  },
  {
   "cell_type": "code",
   "execution_count": 5,
   "id": "841740bc-04db-4dba-b8d6-fb3983ab12fd",
   "metadata": {},
   "outputs": [
    {
     "data": {
      "text/html": [
       "<div>\n",
       "<style scoped>\n",
       "    .dataframe tbody tr th:only-of-type {\n",
       "        vertical-align: middle;\n",
       "    }\n",
       "\n",
       "    .dataframe tbody tr th {\n",
       "        vertical-align: top;\n",
       "    }\n",
       "\n",
       "    .dataframe thead th {\n",
       "        text-align: right;\n",
       "    }\n",
       "</style>\n",
       "<table border=\"1\" class=\"dataframe\">\n",
       "  <thead>\n",
       "    <tr style=\"text-align: right;\">\n",
       "      <th></th>\n",
       "      <th>Density</th>\n",
       "      <th>Specific Heat</th>\n",
       "      <th>Conductivity</th>\n",
       "      <th>LW Emissivity</th>\n",
       "      <th>SW Transmittance</th>\n",
       "      <th>SW Absorptivity</th>\n",
       "      <th>Albedo</th>\n",
       "    </tr>\n",
       "  </thead>\n",
       "  <tbody>\n",
       "    <tr>\n",
       "      <th>Concrete</th>\n",
       "      <td>2300</td>\n",
       "      <td>880</td>\n",
       "      <td>1.4</td>\n",
       "      <td>0.90</td>\n",
       "      <td>0.00</td>\n",
       "      <td>0.25</td>\n",
       "      <td>0.75</td>\n",
       "    </tr>\n",
       "    <tr>\n",
       "      <th>Insulation</th>\n",
       "      <td>55</td>\n",
       "      <td>1210</td>\n",
       "      <td>0.027</td>\n",
       "      <td>0.00</td>\n",
       "      <td>0.00</td>\n",
       "      <td>0.25</td>\n",
       "      <td>0.75</td>\n",
       "    </tr>\n",
       "    <tr>\n",
       "      <th>Glass</th>\n",
       "      <td>2500</td>\n",
       "      <td>750</td>\n",
       "      <td>1.4</td>\n",
       "      <td>0.90</td>\n",
       "      <td>0.83</td>\n",
       "      <td>0.10</td>\n",
       "      <td>0.07</td>\n",
       "    </tr>\n",
       "    <tr>\n",
       "      <th>Air</th>\n",
       "      <td>1.2</td>\n",
       "      <td>1000</td>\n",
       "      <td>-</td>\n",
       "      <td>0.00</td>\n",
       "      <td>1.00</td>\n",
       "      <td>0.00</td>\n",
       "      <td>0.00</td>\n",
       "    </tr>\n",
       "    <tr>\n",
       "      <th>Tiles</th>\n",
       "      <td>-</td>\n",
       "      <td>-</td>\n",
       "      <td>0.52</td>\n",
       "      <td>0.91</td>\n",
       "      <td>0.00</td>\n",
       "      <td>0.64</td>\n",
       "      <td>0.36</td>\n",
       "    </tr>\n",
       "  </tbody>\n",
       "</table>\n",
       "</div>"
      ],
      "text/plain": [
       "           Density Specific Heat Conductivity  LW Emissivity  \\\n",
       "Concrete      2300           880          1.4           0.90   \n",
       "Insulation      55          1210        0.027           0.00   \n",
       "Glass         2500           750          1.4           0.90   \n",
       "Air            1.2          1000            -           0.00   \n",
       "Tiles            -             -         0.52           0.91   \n",
       "\n",
       "            SW Transmittance  SW Absorptivity  Albedo  \n",
       "Concrete                0.00             0.25    0.75  \n",
       "Insulation              0.00             0.25    0.75  \n",
       "Glass                   0.83             0.10    0.07  \n",
       "Air                     1.00             0.00    0.00  \n",
       "Tiles                   0.00             0.64    0.36  "
      ]
     },
     "execution_count": 5,
     "metadata": {},
     "output_type": "execute_result"
    }
   ],
   "source": [
    "import pandas as pd\n",
    "\n",
    "thphp = {'Density': [2300, 55, 2500, 1.2, '-'],          # kg/m³\n",
    "         'Specific Heat': [880, 1210, 750, 1000, '-'],    # J/kg.K\n",
    "         'Conductivity': [1.4, 0.027, 1.4, '-', 0.52],       # W/m.K\n",
    "         'LW Emissivity': [0.9, 0, 0.9, 0, 0.91],\n",
    "         'SW Transmittance': [0, 0, 0.83, 1, 0],\n",
    "         'SW Absorptivity': [0.25, 0.25, 0.1, 0, 0.64],\n",
    "         'Albedo': [0.75, 0.75, 0.07, 0, 0.36]}              # albedo + SW transmission + SW absorptivity = 1\n",
    "\n",
    "thphp = pd.DataFrame(thphp, index=['Concrete', 'Insulation', 'Glass', 'Air', 'Tiles'])\n",
    "\n",
    "thphp"
   ]
  },
  {
   "cell_type": "markdown",
   "id": "230075cf-e837-4d0f-87ed-fe6af45d333b",
   "metadata": {
    "jp-MarkdownHeadingCollapsed": true,
    "tags": []
   },
   "source": [
    "### Building Characteristics\n",
    "\n",
    "lines 23-28 of t04.py\n",
    "\n",
    "- width\n",
    "- surface\n",
    "- azimuth\n",
    "- slope\n",
    "- view factor\n",
    "- volume\n",
    "- material"
   ]
  },
  {
   "cell_type": "markdown",
   "id": "90a363aa-aab9-441f-a0ce-ba576765b818",
   "metadata": {},
   "source": [
    "### Input\n",
    "\n",
    "lines 17-21 of t04.py\n",
    "\n",
    "- kp and dt (17-21)\n",
    "- set points\n",
    "- meshes (44)\n",
    "- mean temp for radiative exchange (66)\n",
    "- air changes per hour (26)\n",
    "- convection coefficients W/m² K (68)\n",
    "- calc: Gv (90)"
   ]
  },
  {
   "cell_type": "markdown",
   "id": "0d67703a-f51e-4d50-99b3-6aeb4660b228",
   "metadata": {},
   "source": [
    "### Weather\n",
    "\n",
    "lines 222-235 of t04.py"
   ]
  },
  {
   "cell_type": "markdown",
   "id": "497c6343-2def-4aa3-a755-fdd6fee8a7fc",
   "metadata": {},
   "source": [
    "### Functions for each element (E)\n",
    "\n",
    "lines 71-180 of t04.py\n",
    "\n",
    "- Wall\n",
    "- Window\n",
    "- Floor\n",
    "- Roof\n",
    "- Door\n",
    "- HVAC & Heater"
   ]
  },
  {
   "cell_type": "markdown",
   "id": "c8370940-73e1-4818-83b1-4b88f676c272",
   "metadata": {},
   "source": [
    "### Assembly\n",
    "\n",
    "lines 166-180 of t04.py"
   ]
  },
  {
   "cell_type": "markdown",
   "id": "4d365427-39ed-4060-9e50-0b8f1f117220",
   "metadata": {},
   "source": [
    "### Solver\n",
    "\n",
    "lines 181-214 and 244-276 of t04.py"
   ]
  },
  {
   "cell_type": "markdown",
   "id": "fd64d08c-a32f-4eee-911f-0f214eea8027",
   "metadata": {},
   "source": [
    "### Plot\n",
    "\n",
    "lines 218-220 and 277-292 of t04.py"
   ]
  },
  {
   "cell_type": "markdown",
   "id": "a50850f5-a109-4eed-94aa-7a43d1c4ed90",
   "metadata": {},
   "source": [
    "### Import and Constants\n",
    "\n",
    "lines 9-12 of t04.py\n",
    "\n",
    "- Stefan-Bolzmann constant"
   ]
  }
 ],
 "metadata": {
  "kernelspec": {
   "display_name": "Python 3",
   "language": "python",
   "name": "python3"
  },
  "language_info": {
   "codemirror_mode": {
    "name": "ipython",
    "version": 3
   },
   "file_extension": ".py",
   "mimetype": "text/x-python",
   "name": "python",
   "nbconvert_exporter": "python",
   "pygments_lexer": "ipython3",
   "version": "3.6.13"
  }
 },
 "nbformat": 4,
 "nbformat_minor": 5
}
